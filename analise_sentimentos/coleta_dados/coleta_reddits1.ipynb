{
 "cells": [
  {
   "cell_type": "markdown",
   "metadata": {},
   "source": [
    "AMBIENTE DE TESTES "
   ]
  },
  {
   "cell_type": "code",
   "execution_count": 15,
   "metadata": {},
   "outputs": [
    {
     "name": "stdout",
     "output_type": "stream",
     "text": [
      "Autenticação falhou. Verifique suas credenciais.\n"
     ]
    }
   ],
   "source": [
    "\n",
    "\n",
    "import praw\n",
    "\n",
    "# Credenciais do Reddit (use as suas próprias credenciais aqui)\n",
    "client_id = 'O028aXNPF_z68xdlAAsRyg'\n",
    "client_secret = 'Kp3_3CyKRstJlmxl-BJT1TJhOQml9A'\n",
    "user_agent = 'my_analyzer_1.0'\n",
    "\n",
    "# Conectando à API do Reddit\n",
    "reddit = praw.Reddit(client_id=client_id,\n",
    "                     client_secret=client_secret,\n",
    "                     user_agent=user_agent)\n",
    "\n",
    "try:\n",
    "    user = reddit.user.me()\n",
    "    if user:\n",
    "        print(f'Autenticado como: {user}')\n",
    "    else:\n",
    "        print('Autenticação falhou. Verifique suas credenciais.')\n",
    "except praw.exceptions.APIException as api_ex:\n",
    "    print(f'Erro de API: {api_ex}')\n",
    "except praw.exceptions.ClientException as client_ex:\n",
    "    print(f'Erro de Cliente: {client_ex}')\n",
    "except praw.exceptions.PRAWException as praw_ex:\n",
    "    print(f'Erro do PRAW: {praw_ex}')\n",
    "except Exception as e:\n",
    "    print(f'Erro desconhecido: {e}')"
   ]
  },
  {
   "cell_type": "code",
   "execution_count": null,
   "metadata": {},
   "outputs": [],
   "source": []
  }
 ],
 "metadata": {
  "kernelspec": {
   "display_name": "Python 3",
   "language": "python",
   "name": "python3"
  },
  "language_info": {
   "codemirror_mode": {
    "name": "ipython",
    "version": 3
   },
   "file_extension": ".py",
   "mimetype": "text/x-python",
   "name": "python",
   "nbconvert_exporter": "python",
   "pygments_lexer": "ipython3",
   "version": "3.12.6"
  }
 },
 "nbformat": 4,
 "nbformat_minor": 2
}
