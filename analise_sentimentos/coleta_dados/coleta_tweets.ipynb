{
 "cells": [
  {
   "cell_type": "markdown",
   "metadata": {},
   "source": [
    "AUTENTICAÇÃO DA API TWITTER"
   ]
  },
  {
   "cell_type": "code",
   "execution_count": 2,
   "metadata": {},
   "outputs": [
    {
     "name": "stdout",
     "output_type": "stream",
     "text": [
      "Diretório atual: c:\\Users\\Sony\\Documents\\crudBasico\\ProjetodeTCC_AnalysSentimento\\analise_sentimentos\\coleta_dados\n",
      "Autenticação bem-sucedida\n",
      "Erro ao coletar tweets: 403 Forbidden\n",
      "453 - You currently have access to a subset of Twitter API v2 endpoints and limited v1.1 endpoints (e.g. media post, oauth) only. If you need access to this endpoint, you may need a different access level. You can learn more here: https://developer.twitter.com/en/portal/product\n"
     ]
    }
   ],
   "source": [
    "import os\n",
    "import requests\n",
    "from dotenv import load_dotenv\n",
    "\n",
    "# Verificar o caminho atual do diretório\n",
    "current_directory = os.getcwd()\n",
    "print(f\"Diretório atual: {current_directory}\")\n",
    "\n",
    "# Verificar se o arquivo .env está presente no diretório atual\n",
    "env_path = os.path.join(current_directory, '.env')\n",
    "if not os.path.exists(env_path):\n",
    "    raise FileNotFoundError(f\"Arquivo .env não encontrado no diretório: {current_directory}\")\n",
    "\n",
    "# Carregar variáveis de ambiente\n",
    "load_dotenv(env_path, override=True)\n",
    "\n",
    "# Acessar as variáveis de ambiente\n",
    "BEARER_TOKEN = os.getenv('BEARER_TOKEN')\n",
    "\n",
    "# Verificar se a variável de ambiente foi carregada corretamente\n",
    "if not BEARER_TOKEN:\n",
    "    raise ValueError(\"A variável de ambiente BEARER_TOKEN não foi carregada corretamente.\")\n",
    "\n",
    "# Função para buscar tweets usando a API v2\n",
    "def buscar_tweets_saude_v2(query, quantidade=10):\n",
    "    url = \"https://api.twitter.com/2/tweets/search/recent\"\n",
    "    headers = {\n",
    "        \"Authorization\": f\"Bearer {BEARER_TOKEN}\"\n",
    "    }\n",
    "    params = {\n",
    "        \"query\": query,\n",
    "        \"max_results\": quantidade,\n",
    "        \"tweet.fields\": \"author_id,created_at,text,geo\",\n",
    "        \"expansions\": \"geo.place_id\",\n",
    "        \"place.fields\": \"full_name,id,contained_within,country,country_code,geo,name,place_type\"\n",
    "    }\n",
    "    response = requests.get(url, headers=headers, params=params)\n",
    "    if response.status_code != 200:\n",
    "        raise Exception(f\"Erro ao buscar tweets: {response.status_code} - {response.text}\")\n",
    "    return response.json()\n",
    "\n",
    "# Palavras-chave relacionadas à saúde\n",
    "palavras_chave_saude = [\"saúde\", \"hospital\", \"remédio\", \"vacina\", \"medicamento\", \"UPA\", \"SUS\", \"UBS\", \"Posto de Atendimento\", \"Medico\", \"Enfermeiro\", \"Farmácia\", \"Consultório\", \"Pronto Socorro\", \"Clinica\", \"Emergência\", \"Pandemia\", \"Epidemia\", \"Covid\", \"Coronavírus\", \"Vacinação\", \"Imunização\", \"Epidemiologia\", \"Dengue\", \"Crise Hospitalar\", \"Doença\"]\n",
    "\n",
    "# Construir a query combinando as palavras-chave e filtrando por localização\n",
    "query = \" OR \".join([f'\"{palavra}\"' for palavra in palavras_chave_saude]) + ' place:\"Brasília\"'\n",
    "\n",
    "# Buscar tweets relacionados à saúde\n",
    "tweets_saude = buscar_tweets_saude_v2(query, quantidade=10)\n",
    "\n",
    "# Exibir os tweets coletados\n",
    "for tweet in tweets_saude['data']:\n",
    "    print(f\"Usuário: {tweet['author_id']}, Texto: {tweet['text']}, Data: {tweet['created_at']}\")"
   ]
  },
  {
   "cell_type": "markdown",
   "metadata": {},
   "source": [
    "COLETANDO DADOS COM QUERYS - DOMÍNIO SAÚDE E SUBDOMÍNIOS --- Descobrindo principais tendências -- Definição do que será captado."
   ]
  },
  {
   "cell_type": "code",
   "execution_count": 3,
   "metadata": {},
   "outputs": [
    {
     "name": "stdout",
     "output_type": "stream",
     "text": [
      "Erro ao coletar tweets: 403 Forbidden\n",
      "453 - You currently have access to a subset of Twitter API v2 endpoints and limited v1.1 endpoints (e.g. media post, oauth) only. If you need access to this endpoint, you may need a different access level. You can learn more here: https://developer.twitter.com/en/portal/product\n"
     ]
    }
   ],
   "source": [
    "import os\n",
    "import tweepy\n",
    "from dotenv import load_dotenv\n",
    "import time\n",
    "\n",
    "# Carregar variáveis de ambiente\n",
    "load_dotenv()\n",
    "\n",
    "# Acessar as variáveis de ambiente\n",
    "API_KEY = os.getenv('API_KEY')\n",
    "API_SECRET_KEY = os.getenv('API_SECRET_KEY')\n",
    "ACCESS_TOKEN = os.getenv('ACCESS_TOKEN')\n",
    "ACCESS_TOKEN_SECRET = os.getenv('ACCESS_TOKEN_SECRET')\n",
    "\n",
    "# Código de autenticação\n",
    "autenticaTweet = tweepy.OAuthHandler(API_KEY, API_SECRET_KEY)\n",
    "autenticaTweet.set_access_token(ACCESS_TOKEN, ACCESS_TOKEN_SECRET)\n",
    "\n",
    "api = tweepy.API(autenticaTweet)\n",
    "\n",
    "# Palavras-chave relacionadas à saúde\n",
    "palavras_chave_saude = [\"saúde\", \"hospital\", \"remédio\", \"vacina\", \"medicamento\", \"UPA\", \"SUS\", \"UBS\", \"Posto de Atendimento\", \"Medico\", \"Enfermeiro\", \"Farmácia\", \"Consultório\", \"Pronto Socorro\", \"Clinica\", \"Emergência\", \"Pandemia\", \"Epidemia\", \"Covid\", \"Coronavírus\", \"Vacinação\", \"Imunização\", \"Epidemiologia\", \"Dengue\", \"Crise Hospitalar\", \"Doença\"]\n",
    "\n",
    "# Construir a query combinando as palavras-chave\n",
    "query = \" OR \".join([f'\"{palavra}\"' for palavra in palavras_chave_saude])\n",
    "\n",
    "# Coordenadas de Brasília\n",
    "latitude = -15.7942\n",
    "longitude = -47.8822\n",
    "raio = \"50km\"  # Defina o raio de busca ao redor de Brasília\n",
    "\n",
    "# Função para coletar tweets com base nas restrições do plano livre\n",
    "def coletar_tweets_saude(quantidade=10):\n",
    "    resultados = []\n",
    "    try:\n",
    "        # Limite de 1 solicitação por minuto com 10 tweets por chamada para não ultrapassar o limite mensal\n",
    "        tweets = tweepy.Cursor(api.search_tweets,\n",
    "                               q=query,\n",
    "                               geocode=f\"{latitude},{longitude},{raio}\",\n",
    "                               tweet_mode='extended',\n",
    "                               lang=\"pt\",\n",
    "                               result_type=\"recent\"\n",
    "                              ).items(quantidade)\n",
    "        \n",
    "        # Armazenar tweets coletados\n",
    "        for tweet in tweets:\n",
    "            resultados.append({\n",
    "                \"usuario\": tweet.user.screen_name,\n",
    "                \"texto\": tweet.full_text,\n",
    "                \"data\": tweet.created_at\n",
    "            })\n",
    "            print(f\"Coletado tweet de @{tweet.user.screen_name}: {tweet.full_text[:50]}...\")\n",
    "        \n",
    "        print(f\"\\nTotal de tweets coletados nesta execução: {len(resultados)}\")\n",
    "        return resultados\n",
    "\n",
    "    except tweepy.TweepyException as e:\n",
    "        print(f\"Erro ao coletar tweets: {e}\")\n",
    "        time.sleep(60)  # Esperar um minuto caso ocorra erro de rate limit\n",
    "        return resultados\n",
    "\n",
    "# Executar a função de coleta e limitar para evitar ultrapassar o limite mensal\n",
    "tweets_saude = coletar_tweets_saude(quantidade=10)  # Coleta de 10 tweets por execução"
   ]
  },
  {
   "cell_type": "code",
   "execution_count": 21,
   "metadata": {},
   "outputs": [
    {
     "name": "stdout",
     "output_type": "stream",
     "text": [
      "[]\n"
     ]
    }
   ],
   "source": [
    "print(tweets_saude)"
   ]
  }
 ],
 "metadata": {
  "kernelspec": {
   "display_name": "Python 3",
   "language": "python",
   "name": "python3"
  },
  "language_info": {
   "codemirror_mode": {
    "name": "ipython",
    "version": 3
   },
   "file_extension": ".py",
   "mimetype": "text/x-python",
   "name": "python",
   "nbconvert_exporter": "python",
   "pygments_lexer": "ipython3",
   "version": "3.12.1"
  }
 },
 "nbformat": 4,
 "nbformat_minor": 2
}
