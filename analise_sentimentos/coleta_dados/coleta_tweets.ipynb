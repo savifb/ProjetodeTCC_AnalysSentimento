{
 "cells": [
  {
   "cell_type": "markdown",
   "metadata": {},
   "source": [
    "AUTENTICAÇÃO DA API TWITTER"
   ]
  },
  {
   "cell_type": "code",
   "execution_count": 1,
   "metadata": {},
   "outputs": [
    {
     "name": "stdout",
     "output_type": "stream",
     "text": [
      "Teste Autenticação\n"
     ]
    }
   ],
   "source": [
    "import tweepy\n",
    "import requests\n",
    "import os\n",
    "from dotenv import load_dotenv \n",
    "\n",
    "#CARREGANDO VARIÁVEIS \n",
    "\n",
    "load_dotenv()\n",
    "\n",
    "# Acessar as variáveis de ambiente\n",
    "API_KEY = os.getenv('API_KEY')\n",
    "API_SECRET_KEY = os.getenv('API_SECRET_KEY')\n",
    "ACCESS_TOKEN = os.getenv('ACCESS_TOKEN')\n",
    "ACCESS_TOKEN_SECRET = os.getenv('ACCESS_TOKEN_SECRET')\n",
    "\n",
    "#CÓDIGO DE AUTENTICAÇÃO \n",
    "\n",
    "autenticaTweet = tweepy.OAuthHandler(API_KEY, API_SECRET_KEY) # OAUTH HANDLER CHAMA AS KEYS\n",
    "autenticaTweet.set_access_token(ACCESS_TOKEN, ACCESS_TOKEN_SECRET) # ADICIONA OS TOKENS DE ACESSO\n",
    "\n",
    "api = tweepy.API(autenticaTweet)\n",
    "print('Teste Autenticação')"
   ]
  },
  {
   "cell_type": "markdown",
   "metadata": {},
   "source": [
    "BUSCANDO DADOS"
   ]
  },
  {
   "cell_type": "code",
   "execution_count": null,
   "metadata": {},
   "outputs": [],
   "source": [
    "# Buscando tweets com uma hashtag\n",
    "# Definindo a hashtag para busca\n",
    "# hashtags = \"#Python\"\n",
    "\n",
    "# Buscando tweets que contêm a hashtag especificada\n",
    "# tweets = api.search_tweets(q=hashtag, lang=\"pt\", count=10)\n",
    "\n",
    "# Iterando sobre os tweets encontrados e imprimindo o nome do usuário e o texto do tweet\n",
    "# for tweet in tweets:\n",
    "#     print(f\"{tweet.user.name} disse: {tweet.text}\")\n"
   ]
  },
  {
   "cell_type": "code",
   "execution_count": null,
   "metadata": {},
   "outputs": [],
   "source": []
  }
 ],
 "metadata": {
  "kernelspec": {
   "display_name": "Python 3",
   "language": "python",
   "name": "python3"
  },
  "language_info": {
   "codemirror_mode": {
    "name": "ipython",
    "version": 3
   },
   "file_extension": ".py",
   "mimetype": "text/x-python",
   "name": "python",
   "nbconvert_exporter": "python",
   "pygments_lexer": "ipython3",
   "version": "3.12.1"
  }
 },
 "nbformat": 4,
 "nbformat_minor": 2
}
